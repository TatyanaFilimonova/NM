{
  "nbformat": 4,
  "nbformat_minor": 0,
  "metadata": {
    "colab": {
      "provenance": [],
      "authorship_tag": "ABX9TyPki5rh9j2ydcb0GWInlhaF",
      "include_colab_link": true
    },
    "kernelspec": {
      "name": "python3",
      "display_name": "Python 3"
    },
    "language_info": {
      "name": "python"
    }
  },
  "cells": [
    {
      "cell_type": "markdown",
      "metadata": {
        "id": "view-in-github",
        "colab_type": "text"
      },
      "source": [
        "<a href=\"https://colab.research.google.com/github/TatyanaFilimonova/NM/blob/main/%D0%A2%D0%B5%D0%BC%D0%B0_1_%D0%9F%D1%80%D0%B8%D0%BA%D0%BB%D0%B0%D0%B4%D0%B8_%D0%BF%D0%BE%D1%85%D0%B8%D0%B1%D0%BA%D0%B8.ipynb\" target=\"_parent\"><img src=\"https://colab.research.google.com/assets/colab-badge.svg\" alt=\"Open In Colab\"/></a>"
      ]
    },
    {
      "cell_type": "code",
      "execution_count": null,
      "metadata": {
        "colab": {
          "base_uri": "https://localhost:8080/"
        },
        "id": "o6C05dIo6S8t",
        "outputId": "f72f4bb3-18a7-49d8-b6cd-f5a6e133b5d7"
      },
      "outputs": [
        {
          "output_type": "execute_result",
          "data": {
            "text/plain": [
              "0.0002"
            ]
          },
          "metadata": {},
          "execution_count": 1
        }
      ],
      "source": [
        "0.0001 + 0.0001"
      ]
    },
    {
      "cell_type": "code",
      "source": [
        "0.00085 + 0.00015"
      ],
      "metadata": {
        "colab": {
          "base_uri": "https://localhost:8080/"
        },
        "id": "9B1MiepWXUPC",
        "outputId": "56e8a298-cf72-4088-c4df-560035266c30"
      },
      "execution_count": null,
      "outputs": [
        {
          "output_type": "execute_result",
          "data": {
            "text/plain": [
              "0.001"
            ]
          },
          "metadata": {},
          "execution_count": 2
        }
      ]
    },
    {
      "cell_type": "code",
      "source": [
        "0.3*3"
      ],
      "metadata": {
        "colab": {
          "base_uri": "https://localhost:8080/"
        },
        "id": "qxnWv5tkXjgM",
        "outputId": "eb7fbb3e-6fd9-40a0-a933-a6022eadf5e6"
      },
      "execution_count": null,
      "outputs": [
        {
          "output_type": "execute_result",
          "data": {
            "text/plain": [
              "0.8999999999999999"
            ]
          },
          "metadata": {},
          "execution_count": 3
        }
      ]
    },
    {
      "cell_type": "code",
      "source": [
        "# Приклад 1: неточність обчислень з плаваючою комою\n",
        "0.009 + 0.001  # Очікуємо 0.010, але отримаємо 0.009999999999999998"
      ],
      "metadata": {
        "colab": {
          "base_uri": "https://localhost:8080/"
        },
        "id": "HVus0LMb6Y7o",
        "outputId": "f1a8d9be-19d6-4973-a457-cda8a543c5fd"
      },
      "execution_count": null,
      "outputs": [
        {
          "output_type": "execute_result",
          "data": {
            "text/plain": [
              "0.009999999999999998"
            ]
          },
          "metadata": {},
          "execution_count": 4
        }
      ]
    },
    {
      "cell_type": "code",
      "source": [
        "# Приклад 2: неточність при відніманні\n",
        "0.3 - 0.2  # Очікуємо 0.1, але отримаємо 0.09999999999999998\n"
      ],
      "metadata": {
        "colab": {
          "base_uri": "https://localhost:8080/"
        },
        "id": "DlpfEvpF6xfe",
        "outputId": "8fda2b06-5bd3-4c94-e545-9f992e76359f"
      },
      "execution_count": null,
      "outputs": [
        {
          "output_type": "execute_result",
          "data": {
            "text/plain": [
              "0.09999999999999998"
            ]
          },
          "metadata": {},
          "execution_count": 5
        }
      ]
    },
    {
      "cell_type": "code",
      "source": [
        "0.5 - 0.4"
      ],
      "metadata": {
        "colab": {
          "base_uri": "https://localhost:8080/"
        },
        "id": "J_GaM8YgqiPI",
        "outputId": "21eaaec2-36e1-49a5-b900-35f0414b3cc0"
      },
      "execution_count": null,
      "outputs": [
        {
          "output_type": "execute_result",
          "data": {
            "text/plain": [
              "0.09999999999999998"
            ]
          },
          "metadata": {},
          "execution_count": 6
        }
      ]
    },
    {
      "cell_type": "code",
      "source": [
        "0.45 - 0.44"
      ],
      "metadata": {
        "colab": {
          "base_uri": "https://localhost:8080/"
        },
        "id": "mmwSViwzYGDW",
        "outputId": "723f6c8f-f18c-4bb8-f38b-6fecea93b95e"
      },
      "execution_count": null,
      "outputs": [
        {
          "output_type": "execute_result",
          "data": {
            "text/plain": [
              "0.010000000000000009"
            ]
          },
          "metadata": {},
          "execution_count": 7
        }
      ]
    },
    {
      "cell_type": "code",
      "source": [
        "# Приклад 3: неточність при множенні\n",
        "0.1 * 3  # Очікуємо 0.3, але отримаємо 0.30000000000000004"
      ],
      "metadata": {
        "colab": {
          "base_uri": "https://localhost:8080/"
        },
        "id": "jvPDaD0J60Lu",
        "outputId": "ad42a5d0-675c-421f-f052-bedcd6bbbc5c"
      },
      "execution_count": null,
      "outputs": [
        {
          "output_type": "execute_result",
          "data": {
            "text/plain": [
              "0.30000000000000004"
            ]
          },
          "metadata": {},
          "execution_count": 8
        }
      ]
    },
    {
      "cell_type": "code",
      "source": [
        "0.33 * 0.3\n"
      ],
      "metadata": {
        "colab": {
          "base_uri": "https://localhost:8080/"
        },
        "id": "op-ukjVIYhb_",
        "outputId": "2a96f27e-9345-4f5c-b49d-72f241cff34c"
      },
      "execution_count": null,
      "outputs": [
        {
          "output_type": "execute_result",
          "data": {
            "text/plain": [
              "0.099"
            ]
          },
          "metadata": {},
          "execution_count": 9
        }
      ]
    },
    {
      "cell_type": "code",
      "source": [
        "# Приклад 4: як виправити проблему за допомогою модуля decimal\n",
        "from decimal import Decimal\n",
        "\n",
        "print(Decimal('0.3') - Decimal('0.2'))  # Отримаємо точно 0.1"
      ],
      "metadata": {
        "colab": {
          "base_uri": "https://localhost:8080/"
        },
        "id": "RvvGJ94w63Ky",
        "outputId": "f7b4f41d-7e2b-4a4a-bba4-d69e17e1f098"
      },
      "execution_count": null,
      "outputs": [
        {
          "output_type": "stream",
          "name": "stdout",
          "text": [
            "0.1\n"
          ]
        }
      ]
    },
    {
      "cell_type": "code",
      "source": [
        "# Приклад 5: округлення значення\n",
        "print(round(0.3 - 0.2, 10))  # Отримаємо 0.1 без неточностi"
      ],
      "metadata": {
        "colab": {
          "base_uri": "https://localhost:8080/"
        },
        "id": "X0m19nP4656I",
        "outputId": "940a372c-9626-4105-d3dc-a85ac01b05b4"
      },
      "execution_count": null,
      "outputs": [
        {
          "output_type": "stream",
          "name": "stdout",
          "text": [
            "0.1\n"
          ]
        }
      ]
    },
    {
      "cell_type": "code",
      "source": [
        "# Приклад 6: розрахунок площі кімнати з похибкою\n",
        "room_length = 15.3\n",
        "room_width = 3\n",
        "laminate_area = room_length * room_width\n",
        "print(\"Площа кімнати:\", laminate_area)\n",
        "\n",
        "# Виправлення з використанням Decimal\n",
        "print(\"Площа кімнати (точно):\", Decimal(str(room_length)) * Decimal(str(room_width)))"
      ],
      "metadata": {
        "colab": {
          "base_uri": "https://localhost:8080/"
        },
        "id": "d9v1zlu57NfA",
        "outputId": "7e7267ed-2f84-4fe9-b56e-f0e25c760228"
      },
      "execution_count": null,
      "outputs": [
        {
          "output_type": "stream",
          "name": "stdout",
          "text": [
            "Площа кімнати: 45.900000000000006\n",
            "Площа кімнати (точно): 45.9\n"
          ]
        }
      ]
    },
    {
      "cell_type": "code",
      "source": [
        "a = 0.3 * 3.5\n",
        "a"
      ],
      "metadata": {
        "colab": {
          "base_uri": "https://localhost:8080/"
        },
        "id": "B6z9o9_mZ3N7",
        "outputId": "4e50615a-446e-45ed-ac73-801d7d78415e"
      },
      "execution_count": null,
      "outputs": [
        {
          "output_type": "execute_result",
          "data": {
            "text/plain": [
              "1.05"
            ]
          },
          "metadata": {},
          "execution_count": 13
        }
      ]
    },
    {
      "cell_type": "code",
      "source": [
        "b = 5.0 * 9.0\n",
        "b"
      ],
      "metadata": {
        "colab": {
          "base_uri": "https://localhost:8080/"
        },
        "id": "NjjF1QQlaAnb",
        "outputId": "f5ce4fd0-1402-461a-c412-220bae56362e"
      },
      "execution_count": null,
      "outputs": [
        {
          "output_type": "execute_result",
          "data": {
            "text/plain": [
              "45.0"
            ]
          },
          "metadata": {},
          "execution_count": 14
        }
      ]
    },
    {
      "cell_type": "code",
      "source": [
        "b/ a"
      ],
      "metadata": {
        "colab": {
          "base_uri": "https://localhost:8080/"
        },
        "id": "VvPxn_vaaF4U",
        "outputId": "301e9bef-5d2f-4dfc-f232-6f5ad93ba13b"
      },
      "execution_count": null,
      "outputs": [
        {
          "output_type": "execute_result",
          "data": {
            "text/plain": [
              "42.857142857142854"
            ]
          },
          "metadata": {},
          "execution_count": 15
        }
      ]
    },
    {
      "cell_type": "code",
      "source": [
        "300 * a"
      ],
      "metadata": {
        "colab": {
          "base_uri": "https://localhost:8080/"
        },
        "id": "omYTWClAaOkg",
        "outputId": "d1932644-0150-4acb-c699-547b0c690010"
      },
      "execution_count": null,
      "outputs": [
        {
          "output_type": "execute_result",
          "data": {
            "text/plain": [
              "315.0"
            ]
          },
          "metadata": {},
          "execution_count": 16
        }
      ]
    },
    {
      "cell_type": "code",
      "source": [
        "\n",
        "# Приклад 7: неточність при діленні\n",
        "print(1 / 3)  # Очікуємо 0.333..., але отримаємо 0.3333333333333333\n",
        "\n"
      ],
      "metadata": {
        "colab": {
          "base_uri": "https://localhost:8080/"
        },
        "id": "QO9u_uBo7Xxc",
        "outputId": "d53dfc91-0453-4e2d-81aa-a96241d3ba1b"
      },
      "execution_count": null,
      "outputs": [
        {
          "output_type": "stream",
          "name": "stdout",
          "text": [
            "0.3333333333333333\n"
          ]
        }
      ]
    },
    {
      "cell_type": "code",
      "source": [
        "# Виправлення з використанням Decimal\n",
        "print(Decimal('1') / Decimal('3'))  # Отримаємо точне значення\n"
      ],
      "metadata": {
        "colab": {
          "base_uri": "https://localhost:8080/"
        },
        "id": "bD_o8BYS7bAA",
        "outputId": "ca915c9f-2880-4c60-c4cf-463f5075796c"
      },
      "execution_count": null,
      "outputs": [
        {
          "output_type": "stream",
          "name": "stdout",
          "text": [
            "0.3333333333333333333333333333\n"
          ]
        }
      ]
    },
    {
      "cell_type": "code",
      "source": [
        "# Приклад 8: неточність при множенні дробів\n",
        "print(0.1 * 0.2)  # Очікуємо 0.02, але отримаємо 0.020000000000000004\n",
        "\n",
        "# Виправлення з використанням Decimal\n",
        "print(Decimal('0.1') * Decimal('0.2'))  # Отримаємо точно 0.02"
      ],
      "metadata": {
        "colab": {
          "base_uri": "https://localhost:8080/"
        },
        "id": "o6_JegY67f8Y",
        "outputId": "882f4925-1701-45b5-f328-5cb9858b7ed1"
      },
      "execution_count": null,
      "outputs": [
        {
          "output_type": "stream",
          "name": "stdout",
          "text": [
            "0.020000000000000004\n",
            "0.02\n"
          ]
        }
      ]
    }
  ]
}