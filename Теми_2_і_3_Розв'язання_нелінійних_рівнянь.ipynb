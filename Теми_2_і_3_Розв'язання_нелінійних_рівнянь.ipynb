{
  "nbformat": 4,
  "nbformat_minor": 0,
  "metadata": {
    "colab": {
      "provenance": [],
      "authorship_tag": "ABX9TyNPzpHKvNMhH2AgGd0RtUsX",
      "include_colab_link": true
    },
    "kernelspec": {
      "name": "python3",
      "display_name": "Python 3"
    },
    "language_info": {
      "name": "python"
    }
  },
  "cells": [
    {
      "cell_type": "markdown",
      "metadata": {
        "id": "view-in-github",
        "colab_type": "text"
      },
      "source": [
        "<a href=\"https://colab.research.google.com/github/TatyanaFilimonova/NM/blob/main/%D0%A2%D0%B5%D0%BC%D0%B8_2_%D1%96_3_%D0%A0%D0%BE%D0%B7%D0%B2'%D1%8F%D0%B7%D0%B0%D0%BD%D0%BD%D1%8F_%D0%BD%D0%B5%D0%BB%D1%96%D0%BD%D1%96%D0%B9%D0%BD%D0%B8%D1%85_%D1%80%D1%96%D0%B2%D0%BD%D1%8F%D0%BD%D1%8C.ipynb\" target=\"_parent\"><img src=\"https://colab.research.google.com/assets/colab-badge.svg\" alt=\"Open In Colab\"/></a>"
      ]
    },
    {
      "cell_type": "markdown",
      "source": [
        "1. Метод ділення навпіл."
      ],
      "metadata": {
        "id": "VgrW9zRY0dVt"
      }
    },
    {
      "cell_type": "code",
      "execution_count": 1,
      "metadata": {
        "colab": {
          "base_uri": "https://localhost:8080/"
        },
        "id": "iOTNXySVyeHy",
        "outputId": "1171ee55-ec2d-43a3-92c4-13fd6c08b988"
      },
      "outputs": [
        {
          "output_type": "stream",
          "name": "stdout",
          "text": [
            "Результати обчислень\n",
            "\n",
            "          a      F(a)         c      F(c)       b      F(b)\n",
            "0 -3.000000  0.977954 -2.000000  1.135204 -1.0000 -0.454649\n",
            "1 -2.000000  1.135204 -1.500000 -0.123480 -1.0000 -0.454649\n",
            "2 -2.000000  1.135204 -1.750000  0.405593 -1.5000 -0.123480\n",
            "3 -1.750000  0.405593 -1.625000  0.109040 -1.5000 -0.123480\n",
            "4 -1.625000  0.109040 -1.562500 -0.015587 -1.5000 -0.123480\n",
            "5 -1.625000  0.109040 -1.593750  0.044659 -1.5625 -0.015587\n",
            "6 -1.593750  0.044659 -1.578125  0.014015 -1.5625 -0.015587\n",
            "7 -1.578125  0.014015 -1.570312 -0.000917 -1.5625 -0.015587\n",
            "\n",
            "В точці с =  -1.5703125 , f(c) =  -0.0009171268569415665\n"
          ]
        }
      ],
      "source": [
        "import numpy as np\n",
        "import pandas as pd\n",
        "\n",
        "# Визначаємо функцію\n",
        "def f (x):\n",
        "    y = np.cos(x)*np.sin(x)*(x**2+x+1)\n",
        "    return y\n",
        "# Визначаємо границі відрізку\n",
        "a, b = -3, -1\n",
        "# Визначаємо точність розв'язку\n",
        "h = 0.001\n",
        "# Поділяємо відрізок навпіл\n",
        "c = (a+b)/2\n",
        "# Зберігаємо результати обчислень\n",
        "data_A = [a]\n",
        "data_B = [b]\n",
        "data_C = [c]\n",
        "data_F_A = [f(a)]\n",
        "data_F_B = [f(b)]\n",
        "data_F_C = [f(c)]\n",
        "# Перевіряємо досягнення точності\n",
        "while abs(f(c)) > h:\n",
        "    # Звужуємо відрізок\n",
        "    if np.sign(f(c)) == np.sign(f(a)):\n",
        "        a = c\n",
        "    else:\n",
        "        b = c\n",
        "    # Поділяємо відрізок навпіл\n",
        "    c = (a+b)/2\n",
        "    # Зберігаємо результати обчислень\n",
        "    data_A.append(a)\n",
        "    data_B.append(b)\n",
        "    data_C.append(c)\n",
        "    data_F_A.append(f(a))\n",
        "    data_F_B.append(f(b))\n",
        "    data_F_C.append(f(c))\n",
        "# Відображаємо результати обчислень\n",
        "print('Результати обчислень')\n",
        "print()\n",
        "data = pd.DataFrame({'a': data_A,\n",
        "                     'F(a)': data_F_A,\n",
        "                     'c': data_C,\n",
        "                     'F(c)': data_F_C,\n",
        "                     'b': data_B,\n",
        "                     'F(b)': data_F_B})\n",
        "print(data)\n",
        "# Відображаємо наближений корінь рівняння\n",
        "print()\n",
        "print('В точці с = ', c, ', f(c) = ', f(c))"
      ]
    },
    {
      "cell_type": "markdown",
      "source": [
        "2. Метод ділення навпіл"
      ],
      "metadata": {
        "id": "5hYa7ucn0PEN"
      }
    },
    {
      "cell_type": "code",
      "source": [
        "import numpy as np\n",
        "import scipy.optimize as sp\n",
        "\n",
        "def f(x):\n",
        "    y = np.cos(x)*np.sin(x)*(x**2+x+1)\n",
        "    return y\n",
        "\n",
        "a, b = -3, -1\n",
        "eps = 1.e-3\n",
        "\n",
        "x = sp.bisect(f, a, b,(),eps) #функція для метода\n",
        "\n",
        "print('The approximate solution x is:', x)\n",
        "print('And the value f(x) is:', f(x))"
      ],
      "metadata": {
        "colab": {
          "base_uri": "https://localhost:8080/"
        },
        "id": "ML3KEw5q0H1e",
        "outputId": "ba6d3a4c-ad2f-467d-eec9-ff71ca372431"
      },
      "execution_count": 3,
      "outputs": [
        {
          "output_type": "stream",
          "name": "stdout",
          "text": [
            "The approximate solution x is: -1.5712890625\n",
            "And the value f(x) is: 0.0009350448126615916\n"
          ]
        }
      ]
    },
    {
      "cell_type": "markdown",
      "source": [
        "3. Метод хорд"
      ],
      "metadata": {
        "id": "sYf0IvR41ufd"
      }
    },
    {
      "cell_type": "code",
      "source": [
        "import numpy as np\n",
        "import pandas as pd\n",
        "# Визначаємо функцію\n",
        "def f(x):\n",
        "    y = np.cos(x)*np.sin(x)*(x**2+x+1)\n",
        "    return y\n",
        "# Визначаємо межі відрізку\n",
        "a, b = -3, -1\n",
        "# Визначаємо точність розв'язку\n",
        "eps = 0.001\n",
        "# Точка, де хорда перетинає вісь 0x\n",
        "c = (f(a)*b-a*f(b))/(f(a)-f(b))\n",
        "\n",
        "# Зберігаємо результати обчислень\n",
        "data_A = [a]\n",
        "data_B = [b]\n",
        "data_C = [c]\n",
        "data_F_A = [f(a)]\n",
        "data_F_B = [f(b)]\n",
        "data_F_C = [f(c)]\n",
        "# Перевіряємо досягнення точності\n",
        "while abs(f(c)) > eps:\n",
        "    # Звужуємо відрізок\n",
        "    if np.sign(f(c)) == np.sign(f(a)):\n",
        "        a = c\n",
        "    else:\n",
        "        b = c\n",
        "    # Точка, де хорда перетинає вісь 0x\n",
        "    c = (f(a)*b-a*f(b))/(f(a)-f(b))\n",
        "    # Зберігаємо результати обчислень\n",
        "    data_A.append(a)\n",
        "    data_B.append(b)\n",
        "    data_C.append(c)\n",
        "    data_F_A.append(f(a))\n",
        "    data_F_B.append(f(b))\n",
        "    data_F_C.append(f(c))\n",
        "# Відображаємо результати обчислень\n",
        "print('Результати обчислень')\n",
        "print()\n",
        "data = pd.DataFrame({'a': data_A, 'F(a)': data_F_A,\n",
        "                     'c': data_C, 'F(c)': data_F_C,\n",
        "                     'b': data_B, 'F(b)': data_F_B})\n",
        "print(data)\n",
        "# Відображаємо наближений корінь рівняння\n",
        "print()\n",
        "print('В точці с = ', c, ', f(c) = ', f(c))"
      ],
      "metadata": {
        "colab": {
          "base_uri": "https://localhost:8080/"
        },
        "id": "3p6i5xHK1y3l",
        "outputId": "5d7cb481-6809-4eb0-e7a6-f4fa9e7e78db"
      },
      "execution_count": 4,
      "outputs": [
        {
          "output_type": "stream",
          "name": "stdout",
          "text": [
            "Результати обчислень\n",
            "\n",
            "          a      F(a)         c      F(c)         b      F(b)\n",
            "0 -3.000000  0.977954 -1.634717  0.129889 -1.000000 -0.454649\n",
            "1 -1.634717  0.129889 -1.493678 -0.133455 -1.000000 -0.454649\n",
            "2 -1.634717  0.129889 -1.565152 -0.010636 -1.493678 -0.133455\n",
            "3 -1.634717  0.129889 -1.570418 -0.000718 -1.565152 -0.010636\n",
            "\n",
            "В точці с =  -1.5704175737258015 , f(c) =  -0.0007180376446871882\n"
          ]
        }
      ]
    },
    {
      "cell_type": "markdown",
      "source": [
        "4. Метод Ньютона (дотичних)"
      ],
      "metadata": {
        "id": "40blPBSK2Cdm"
      }
    },
    {
      "cell_type": "code",
      "source": [
        "import numpy as np\n",
        "import pandas as pd\n",
        "# Визначаємо функцію\n",
        "def f(x):\n",
        "    y = np.cos(x)*np.sin(x)*(x**2+x+1)\n",
        "    return y\n",
        "# Визначаємо першу похідну\n",
        "def df(x):\n",
        "    y1 = -(x**2+x+1)*(np.sin(x))**2\n",
        "    y2 = (x**2+x+1)*(np.cos(x))**2\n",
        "    y3 = (2*x+1)*np.sin(x)*np.cos(x)\n",
        "    y = y1+y2+y3\n",
        "    return y\n",
        "# Визначаємо початкову точку\n",
        "c = -1.4\n",
        "# Визначаємо точність розв'язку\n",
        "h = 0.001\n",
        "# Зберігаємо результати обчислень\n",
        "data_C = [c]\n",
        "data_F_C = [f(c)]\n",
        "# Перевіряємо досягнення точності\n",
        "while abs(f(c)) > h:\n",
        "    # Точка, де дотична перетинає вісь 0x\n",
        "    c -= f(c)/df(c)\n",
        "    # Зберігаємо результати обчислень\n",
        "    data_C.append(c)\n",
        "    data_F_C.append(f(c))\n",
        "# Відображаємо результати обчислень\n",
        "print('Результати обчислень')\n",
        "print()\n",
        "data = pd.DataFrame({'c': data_C, 'F(c)': data_F_C})\n",
        "print(data)\n",
        "# Відображаємо наближений корінь рівняння\n",
        "print()\n",
        "print('В точці с = ', c, ', f(c) = ', f(c))"
      ],
      "metadata": {
        "colab": {
          "base_uri": "https://localhost:8080/"
        },
        "id": "WeGQjbjW2HDz",
        "outputId": "7fd55bf4-4d4c-43ea-ce09-3fbf365aa5c5"
      },
      "execution_count": null,
      "outputs": [
        {
          "output_type": "stream",
          "name": "stdout",
          "text": [
            "Результати обчислень\n",
            "\n",
            "          c      F(c)\n",
            "0 -1.400000 -0.261291\n",
            "1 -1.623636  0.106144\n",
            "2 -1.573564  0.005266\n",
            "3 -1.570805  0.000016\n",
            "\n",
            "В точці с =  -1.5708049170979717 , f(c) =  1.6292567852764437e-05\n"
          ]
        }
      ]
    },
    {
      "cell_type": "markdown",
      "source": [
        "5. Метод Ньютона (дотичних)"
      ],
      "metadata": {
        "id": "qjI38bTp0xCo"
      }
    },
    {
      "cell_type": "code",
      "source": [
        "import numpy as np\n",
        "import scipy.optimize as sp\n",
        "\n",
        "def f(x):\n",
        "    y = np.cos(x)*np.sin(x)*(x**2+x+1)\n",
        "    return y\n",
        "\n",
        "def df(x):# Обчислення похідної\n",
        "    y1 = -(x**2+x+1)*(np.sin(x))**2\n",
        "    y2 = (x**2+x+1)*(np.cos(x))**2\n",
        "    y3 = (2*x+1)*np.sin(x)*np.cos(x)\n",
        "    y = y1+y2+y3\n",
        "    return y\n",
        "\n",
        "x0 = -1.4\n",
        "x1 = 1.4\n",
        "\n",
        "x_0 = sp.newton(f, x0, df, tol=1.e-3, maxiter=50)\n",
        "x_1 = sp.newton(f, x1, df, tol=1.e-3, maxiter=50)\n",
        "\n",
        "print('The approximate solution x is:', x_0)\n",
        "print('And the value f(x_0) is:', f(x_0))\n",
        "\n",
        "print('The approximate solution x is:', x_1)\n",
        "print('And the value f(x_0) is:', f(x_1))"
      ],
      "metadata": {
        "colab": {
          "base_uri": "https://localhost:8080/"
        },
        "id": "AonZxq_H0m6-",
        "outputId": "7acab5b7-6894-4cb1-b0d3-217d498bae02"
      },
      "execution_count": null,
      "outputs": [
        {
          "output_type": "stream",
          "name": "stdout",
          "text": [
            "The approximate solution x is: -1.5707963268782201\n",
            "And the value f(x_0) is: 1.5803176499052036e-10\n",
            "The approximate solution x is: 1.5707963267958693\n",
            "And the value f(x_0) is: -4.9007361645997675e-12\n"
          ]
        }
      ]
    },
    {
      "cell_type": "markdown",
      "source": [
        " # Знаходження коренів рівняння за допомогою бібліотеки SymPy"
      ],
      "metadata": {
        "id": "pvK9N9TH1QD-"
      }
    },
    {
      "cell_type": "code",
      "source": [
        "import sympy as sym\n",
        "\n",
        "x = sym.Symbol('x')\n",
        "\n",
        "y = sym.cos(x)*sym.sin(x)*(x**2+x+1)\n",
        "\n",
        "s = sym.solve(y)\n",
        "\n",
        "print(s)"
      ],
      "metadata": {
        "colab": {
          "base_uri": "https://localhost:8080/"
        },
        "id": "PuAp1WCr08qt",
        "outputId": "36c578b1-b0b4-40d5-8142-44bf252e747d"
      },
      "execution_count": null,
      "outputs": [
        {
          "output_type": "stream",
          "name": "stdout",
          "text": [
            "[0, pi/2, pi, 3*pi/2, -1/2 - sqrt(3)*I/2, -1/2 + sqrt(3)*I/2]\n"
          ]
        }
      ]
    },
    {
      "cell_type": "code",
      "source": [
        "import sympy as sym\n",
        "\n",
        "x, a, b, c = sym.symbols('x, a, b, c')\n",
        "\n",
        "y = a * x**2 + b * x + c\n",
        "\n",
        "s = sym.solve(y, x)\n",
        "\n",
        "print(s)"
      ],
      "metadata": {
        "colab": {
          "base_uri": "https://localhost:8080/"
        },
        "id": "Y0d-uHtp1c7r",
        "outputId": "42a681c2-3c44-4db2-dbe7-7c1615e9bbe9"
      },
      "execution_count": null,
      "outputs": [
        {
          "output_type": "stream",
          "name": "stdout",
          "text": [
            "[(-b - sqrt(-4*a*c + b**2))/(2*a), (-b + sqrt(-4*a*c + b**2))/(2*a)]\n"
          ]
        }
      ]
    },
    {
      "cell_type": "markdown",
      "source": [],
      "metadata": {
        "id": "mk1oBvYj1GC2"
      }
    },
    {
      "cell_type": "code",
      "source": [
        "!pip install numdifftools"
      ],
      "metadata": {
        "colab": {
          "base_uri": "https://localhost:8080/"
        },
        "id": "yiLJNuM3Cq0-",
        "outputId": "c098c4b3-909f-46c3-efff-7b8d718fc1f8"
      },
      "execution_count": 5,
      "outputs": [
        {
          "output_type": "stream",
          "name": "stdout",
          "text": [
            "Collecting numdifftools\n",
            "  Downloading numdifftools-0.9.41-py2.py3-none-any.whl.metadata (39 kB)\n",
            "Requirement already satisfied: numpy>=1.9 in /usr/local/lib/python3.12/dist-packages (from numdifftools) (2.0.2)\n",
            "Requirement already satisfied: scipy>=0.8 in /usr/local/lib/python3.12/dist-packages (from numdifftools) (1.16.1)\n",
            "Downloading numdifftools-0.9.41-py2.py3-none-any.whl (100 kB)\n",
            "\u001b[?25l   \u001b[90m━━━━━━━━━━━━━━━━━━━━━━━━━━━━━━━━━━━━━━━━\u001b[0m \u001b[32m0.0/100.2 kB\u001b[0m \u001b[31m?\u001b[0m eta \u001b[36m-:--:--\u001b[0m\r\u001b[2K   \u001b[90m━━━━━━━━━━━━━━━━━━━━━━━━━━━━━━━━━━━━━━━━\u001b[0m \u001b[32m100.2/100.2 kB\u001b[0m \u001b[31m4.6 MB/s\u001b[0m eta \u001b[36m0:00:00\u001b[0m\n",
            "\u001b[?25hInstalling collected packages: numdifftools\n",
            "Successfully installed numdifftools-0.9.41\n"
          ]
        }
      ]
    },
    {
      "cell_type": "code",
      "source": [
        "#Лабораторна робота 2\n",
        "#Відокремлення коренів\n",
        "import numpy as np\n",
        "import numdifftools as nd\n",
        "\n",
        "def f(x):\n",
        "    return 9*x**4 + 8*x**3 + 1.5*x**2 + 2*x - 10\n",
        "\n",
        "\n",
        "def find_segments(): #відокремлюємо корені\n",
        "    search_range = np.arange(-5, 5, 1)\n",
        "\n",
        "    a = None\n",
        "    previous_x = None\n",
        "    current_x  = None\n",
        "    segments = []\n",
        "\n",
        "    for x in search_range:\n",
        "        x = round(x, 4)\n",
        "        current_x = f(x)\n",
        "        if previous_x != None and previous_x * current_x < 0:\n",
        "            segments.append((a, x))\n",
        "        a = x\n",
        "        previous_x = current_x\n",
        "    return segments\n",
        "\n",
        "segments = find_segments()\n",
        "for a, b in segments:\n",
        "    print(f'Found segment:  [{a}, {b}]')\n"
      ],
      "metadata": {
        "colab": {
          "base_uri": "https://localhost:8080/"
        },
        "id": "L-9dn4npCso-",
        "outputId": "f4a01bed-2b67-4ed1-ed9b-5c4c0c660666"
      },
      "execution_count": 6,
      "outputs": [
        {
          "output_type": "stream",
          "name": "stdout",
          "text": [
            "Found segment:  [-2, -1]\n",
            "Found segment:  [0, 1]\n"
          ]
        }
      ]
    },
    {
      "cell_type": "code",
      "source": [
        "import numpy as np\n",
        "import matplotlib.pyplot as plt\n",
        "\n",
        "# Визначення функції\n",
        "def f(x):\n",
        "    return 9*x**4 + 8*x**3 + 1.5*x**2 + 2*x - 10\n",
        "\n",
        "# Генерація значень x\n",
        "x = np.linspace(-3, 3, 100)\n",
        "\n",
        "# Генерація значень y\n",
        "y = f(x)\n",
        "\n",
        "# Побудова графіка\n",
        "plt.figure(figsize=(8, 6))\n",
        "plt.plot(x, y, label='9*x^4 + 8*x^3 + 1.5*x^2 + 2*x - 10', color='blue')\n",
        "plt.title('Графік функції 9*x^4 + 8*x^3 + 1.5*x^2 + 2*x - 10')\n",
        "plt.xlabel('x')\n",
        "plt.ylabel('f(x)')\n",
        "\n",
        "# Додавання осей з стрілками\n",
        "plt.axhline(0, color='black', linewidth=0.5)\n",
        "plt.axvline(0, color='black', linewidth=0.5)\n",
        "\n",
        "plt.text(2.05, -4, 'x', ha='center', va='center')\n",
        "plt.text(-0.3, 190, 'y', ha='center', va='center')\n",
        "\n",
        "plt.grid(True)\n",
        "plt.legend()\n",
        "plt.show()\n"
      ],
      "metadata": {
        "colab": {
          "base_uri": "https://localhost:8080/",
          "height": 564
        },
        "id": "7zUI3d1xZXar",
        "outputId": "f23e6cf2-97fc-48da-fcee-618c84a321a9"
      },
      "execution_count": 10,
      "outputs": [
        {
          "output_type": "display_data",
          "data": {
            "text/plain": [
              "<Figure size 800x600 with 1 Axes>"
            ],
            "image/png": "[encoded data removed]"
          },
          "metadata": {}
        }
      ]
    },
    {
      "cell_type": "markdown",
      "source": [
        "![image.png](data:image/png;base64,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)"
      ],
      "metadata": {
        "id": "eb9uwLLsZg_X"
      }
    },
    {
      "cell_type": "code",
      "source": [
        "#Лабораторна робота. Метод половинного ділення, хорд\n",
        "\n",
        "\n",
        "def rec(a, b, eps):  # метод половинного ділення\n",
        "    while (abs(a - b) > eps):\n",
        "        if f(a) * f((a + b) / 2) < 0:\n",
        "            b = (a + b) / 2\n",
        "        else:\n",
        "            a = (a + b) / 2\n",
        "        x = (a + b) / 2\n",
        "\n",
        "    print('x= ', round(x, 5), '  -   Half division method')\n"
      ],
      "metadata": {
        "id": "BgjK94O9Cfxe"
      },
      "execution_count": 11,
      "outputs": []
    },
    {
      "cell_type": "code",
      "source": [
        "def hord(a, b, eps):  # метод хорд\n",
        "    derivative_f = nd.Derivative(f, n=2)\n",
        "    if f(a) * derivative_f(a) > 0:\n",
        "        x0 = a\n",
        "        xi = b\n",
        "    else:\n",
        "        x0 = b\n",
        "        xi = a\n",
        "    xi_1 = xi - (xi - x0) * f(xi) / (f(xi) - f(x0))\n",
        "    while (abs(xi_1 - xi) > eps):\n",
        "        xi = xi_1\n",
        "        xi_1 = xi - (xi - x0) * f(xi) / (f(xi) - f(x0))\n",
        "    print('x= ', round(xi_1, 5), '  -   Chord method')\n"
      ],
      "metadata": {
        "id": "Sz_KWVf7D2tL"
      },
      "execution_count": 12,
      "outputs": []
    },
    {
      "cell_type": "code",
      "source": [
        "if __name__ == \"__main__\":\n",
        "    a1, b1 = -2, -1\n",
        "    a2, b2 = 0, 1\n",
        "    eps = 0.001\n",
        "    print(\"Розв'язки на відрізку [-2,-1]\")\n",
        "    rec(a1, b1, eps)\n",
        "    hord(a1, b1, eps)\n",
        "    print(\"\\n Розв'язки на відрізку [0,1]\")\n",
        "    rec(a2, b2, eps)\n",
        "    hord(a2, b2, eps)"
      ],
      "metadata": {
        "id": "upx7R4yoFZj_",
        "outputId": "6d77fca4-bdac-4f77-99e1-2b077a29484c",
        "colab": {
          "base_uri": "https://localhost:8080/"
        }
      },
      "execution_count": 13,
      "outputs": [
        {
          "output_type": "stream",
          "name": "stdout",
          "text": [
            "Розв'язки на відрізку [-2,-1]\n",
            "x=  -1.34521   -   Half division method\n",
            "x=  -1.34351   -   Chord method\n",
            "\n",
            " Розв'язки на відрізку [0,1]\n",
            "x=  0.79053   -   Half division method\n",
            "x=  0.7908   -   Chord method\n"
          ]
        }
      ]
    },
    {
      "cell_type": "code",
      "source": [
        "#Лабораторна робота 3. Метод Ньютона (дотичних). Комбінований метод\n",
        "\n",
        "def nuton(a, b, eps, f):\n",
        "    df2 = nd.Derivative(f, n=2)(b)  # Отримуємо значення похідної другого порядку в точці b\n",
        "    if f(b) * df2 > 0:\n",
        "        xi = b\n",
        "    else:\n",
        "        xi = a\n",
        "    df = nd.Derivative(f, n=1)(xi)  # Отримуємо значення похідної першого порядку в точці xi\n",
        "    xi_1 = xi - f(xi) / df\n",
        "    while abs(xi_1 - xi) > eps:  # перевіряємо точність\n",
        "        xi = xi_1\n",
        "        xi_1 = xi - f(xi) / df\n",
        "    print('Метод Ньютона, x = ', xi_1.round(4))\n"
      ],
      "metadata": {
        "id": "uz6OF8g2C-vY"
      },
      "execution_count": null,
      "outputs": []
    },
    {
      "cell_type": "code",
      "source": [
        "def komb(a, b, eps, f):\n",
        "    df2 = nd.Derivative(f, n=2)(a)\n",
        "    if f(a) * df2 > 0:\n",
        "        a0 = a\n",
        "        b0 = b\n",
        "    else:\n",
        "        a0 = b\n",
        "        b0 = a\n",
        "    ai = a0\n",
        "    bi = b0\n",
        "    while abs(ai - bi) > eps:\n",
        "        ai_1 = ai - f(ai) * (bi - ai) / (f(bi) - f(ai))\n",
        "        bi_1 = bi - f(bi) / nd.Derivative(f, n=1)(bi)\n",
        "        ai = ai_1\n",
        "        bi = bi_1\n",
        "    x = (ai_1 + bi_1) / 2\n",
        "\n",
        "    print('Комбінований метод, x = ', x.round(4))\n"
      ],
      "metadata": {
        "id": "M2T4FA4ifyy_"
      },
      "execution_count": null,
      "outputs": []
    },
    {
      "cell_type": "code",
      "source": [
        "if __name__ == \"__main__\":\n",
        "    a1, b1 = -2, -1\n",
        "    a2, b2 = 0, 1\n",
        "    eps = 0.001\n",
        "\n",
        "    print(\"Розв'язання на відрізку [-2, -1]\")\n",
        "    nuton(a1, b1, eps, f)\n",
        "    komb(a1, b1, eps, f)\n",
        "    print(\"\\n Розв'язання на відрізку [0, 1]\")\n",
        "    nuton(a2, b2, eps, f)\n",
        "    komb(a2, b2, eps, f)"
      ],
      "metadata": {
        "colab": {
          "base_uri": "https://localhost:8080/"
        },
        "id": "zrxTpvysf0zN",
        "outputId": "0e1afa74-0294-41c2-a7bc-28169da1aafc"
      },
      "execution_count": null,
      "outputs": [
        {
          "output_type": "stream",
          "name": "stdout",
          "text": [
            "Розв'язання на відрізку [-2, -1]\n",
            "Метод Ньютона, x =  -1.3479\n",
            "Комбінований метод, x =  -1.3447\n",
            "\n",
            " Розв'язання на відрізку [0, 1]\n",
            "Метод Ньютона, x =  0.7915\n",
            "Комбінований метод, x =  0.7909\n"
          ]
        }
      ]
    }
  ]
}